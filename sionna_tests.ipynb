{
 "cells": [
  {
   "cell_type": "code",
   "execution_count": null,
   "id": "3f409213",
   "metadata": {},
   "outputs": [],
   "source": [
    "import os\n",
    "gpu_num = \"\" # Use \"\" to use the CPU\n",
    "os.environ[\"CUDA_VISIBLE_DEVICES\"] = f\"{gpu_num}\"\n",
    "os.environ['TF_CPP_MIN_LOG_LEVEL'] = '3'\n",
    "import sionna\n",
    "\n",
    "import tensorflow as tf\n",
    "gpus = tf.config.list_physical_devices('GPU')\n",
    "if gpus:\n",
    "    try:\n",
    "        tf.config.experimental.set_memory_growth(gpus[0], True)\n",
    "    except RuntimeError as e:\n",
    "        print(e)\n",
    "# Avoid warnings from TensorFlow\n",
    "tf.get_logger().setLevel('ERROR')\n",
    "\n",
    "tf.random.set_seed(1) # Set global random seed for reproducibility\n",
    "\n",
    "import matplotlib.pyplot as plt\n",
    "import numpy as np\n",
    "import time\n",
    "\n",
    "TX_POSITION = [20, 1, -2.8]\n",
    "RX_POSITION = [35, 1.5, -4.5]\n",
    "CENTER_X, CENTER_Y, CENTER_Z = (27, 1, -3)\n",
    "SCENE_NAME = \"canyon\"\n",
    "IMAGE_FOLDER = f\"images/{SCENE_NAME}\"\n",
    "\n",
    "# Allows to exit cell execution in Jupyter\n",
    "class ExitCell(Exception):\n",
    "    def _render_traceback_(self):\n",
    "        pass\n",
    "\n",
    "\n",
    "# Import Sionna RT components\n",
    "from sionna.rt import load_scene, Transmitter, Receiver, PlanarArray, Camera\n",
    "\n",
    "# For link-level simulations\n",
    "# from sionna.channel import cir_to_ofdm_channel, subcarrier_frequencies, OFDMChannel, ApplyOFDMChannel, CIRDataset\n",
    "# from sionna.nr import PUSCHConfig, PUSCHTransmitter, PUSCHReceiver\n",
    "# from sionna.utils import compute_ber, ebnodb2no, PlotBER\n",
    "# from sionna.ofdm import KBestDetector, LinearDetector\n",
    "# from sionna.mimo import StreamManagement"
   ]
  },
  {
   "cell_type": "code",
   "execution_count": null,
   "id": "2d591484",
   "metadata": {},
   "outputs": [],
   "source": [
    "start = time.perf_counter()\n",
    "scene = load_scene(f\"models/{SCENE_NAME}.xml\")\n",
    "scene.tx_array = PlanarArray(num_rows=8,\n",
    "                          num_cols=2,\n",
    "                          vertical_spacing=0.7,\n",
    "                          horizontal_spacing=0.5,\n",
    "                          pattern=\"tr38901\",\n",
    "                          polarization=\"VH\")\n",
    "\n",
    "# Configure antenna array for all receivers\n",
    "scene.rx_array = PlanarArray(num_rows=1,\n",
    "                          num_cols=1,\n",
    "                          vertical_spacing=0.5,\n",
    "                          horizontal_spacing=0.5,\n",
    "                          pattern=\"dipole\",\n",
    "                          polarization=\"cross\")\n",
    "\n",
    "# Create transmitter\n",
    "tx = Transmitter(name=\"tx\",\n",
    "              position=TX_POSITION,\n",
    "              orientation=[0,0,0])\n",
    "scene.add(tx)\n",
    "\n",
    "# Create a receiver\n",
    "rx = Receiver(name=\"rx\",\n",
    "           position=RX_POSITION,\n",
    "           orientation=[0,0,0])\n",
    "scene.add(rx)\n",
    "\n",
    "# TX points towards RX\n",
    "tx.look_at(rx)\n",
    "scene_loaded = time.perf_counter()\n",
    "print(f\"scene load time:    {scene_loaded - start} seconds\")\n",
    "\n"
   ]
  },
  {
   "cell_type": "code",
   "execution_count": null,
   "id": "d98c392b",
   "metadata": {},
   "outputs": [],
   "source": [
    "\n",
    "start = time.perf_counter()\n",
    "\n",
    "paths_simple = scene.compute_paths(\n",
    "                            check_scene=False\n",
    "                            )\n",
    "paths_simple_time = time.perf_counter()\n",
    "print(f\"simple path compute time:       {paths_simple_time - start} seconds\")\n",
    "\n",
    "paths_diff = scene.compute_paths(\n",
    "                            check_scene=False,\n",
    "                            diffraction=True\n",
    "                            )\n",
    "paths_diff_time = time.perf_counter()\n",
    "print(f\"diffraction path compute time:  {paths_diff_time - paths_simple_time} seconds\")\n",
    "\n",
    "\n",
    "paths_scatter = scene.compute_paths(\n",
    "                            check_scene=False,\n",
    "                            scattering=True\n",
    "                            )\n",
    "paths_scatter_time = time.perf_counter()\n",
    "print(f\"scatter path compute time:      {paths_scatter_time - paths_diff_time} seconds\")\n",
    "\n",
    "paths_complete = scene.compute_paths(\n",
    "                            check_scene=False,\n",
    "                            diffraction=True,\n",
    "                            scattering=True\n",
    "                            )\n",
    "paths_time = time.perf_counter()\n",
    "print(f\"path complete compute time:     {paths_time - paths_scatter_time} seconds\")\n",
    "\n",
    "\n",
    "\n",
    "\n",
    "cm = scene.coverage_map(cm_cell_size=[1.,1.], # Configure size of each cell\n",
    "                        cm_center=[CENTER_X + 5, CENTER_Y, -3.0],\n",
    "                        cm_orientation=[0,0,0],\n",
    "                        cm_size=[35,10],\n",
    "                        diffraction=True,\n",
    "                        scattering=True,\n",
    "                        num_samples=1e7)\n",
    "cm_time = time.perf_counter()\n",
    "print(f\"map compute time:               {cm_time - paths_time} seconds\")"
   ]
  },
  {
   "cell_type": "code",
   "execution_count": null,
   "id": "6a85b16b",
   "metadata": {},
   "outputs": [],
   "source": [
    "scene.preview()"
   ]
  },
  {
   "cell_type": "code",
   "execution_count": null,
   "id": "d836a2c9",
   "metadata": {},
   "outputs": [],
   "source": [
    "scene.preview(paths=paths_simple);"
   ]
  },
  {
   "cell_type": "code",
   "execution_count": null,
   "id": "75e4574b",
   "metadata": {},
   "outputs": [],
   "source": [
    "scene.preview(paths=paths_diff);"
   ]
  },
  {
   "cell_type": "code",
   "execution_count": null,
   "id": "ba1717fa",
   "metadata": {},
   "outputs": [],
   "source": [
    "scene.preview(paths=paths_scatter);"
   ]
  },
  {
   "cell_type": "code",
   "execution_count": null,
   "id": "91bf1d83",
   "metadata": {},
   "outputs": [],
   "source": [
    "scene.preview(paths=paths_complete);"
   ]
  },
  {
   "cell_type": "code",
   "execution_count": null,
   "id": "d30e497d",
   "metadata": {},
   "outputs": [],
   "source": [
    "scene.preview(coverage_map=cm);"
   ]
  }
 ],
 "metadata": {
  "kernelspec": {
   "display_name": "Python 3",
   "language": "python",
   "name": "python3"
  },
  "language_info": {
   "codemirror_mode": {
    "name": "ipython",
    "version": 3
   },
   "file_extension": ".py",
   "mimetype": "text/x-python",
   "name": "python",
   "nbconvert_exporter": "python",
   "pygments_lexer": "ipython3",
   "version": "3.11.7"
  }
 },
 "nbformat": 4,
 "nbformat_minor": 5
}
